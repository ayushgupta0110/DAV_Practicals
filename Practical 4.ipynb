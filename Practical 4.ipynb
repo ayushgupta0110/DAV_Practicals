{
 "cells": [
  {
   "cell_type": "markdown",
   "id": "56a387d7",
   "metadata": {},
   "source": [
    "# Practicle 4"
   ]
  },
  {
   "cell_type": "markdown",
   "id": "cdc13a73",
   "metadata": {},
   "source": [
    "### Consider two excel files having attendance of a workshop’s participants for two days. Each file has three\n",
    "#### fields ‘Name’, ‘Time of joining’, duration (in minutes) where names are unique within a file. Note that duration\n",
    "#### may take one of three values (30, 40, 50) only. Import the data into two dataframes and do the following:\n",
    "#### a. Perform merging of the two dataframes to find the names of students who had attended the\n",
    "#### workshop on both days.\n",
    "#### b. Find names of all students who have attended workshop on either of the days.\n",
    "#### c. Merge two data frames row-wise and find the total number of records in the data frame.\n",
    "#### d. Merge two data frames and use two columns names and duration as multi-row indexes. Generate\n",
    "#### descriptive statistics for this multi-index."
   ]
  },
  {
   "cell_type": "code",
   "execution_count": 13,
   "id": "359d1a9f",
   "metadata": {},
   "outputs": [],
   "source": [
    "import pandas as pd\n",
    "import numpy as np\n",
    "import datetime"
   ]
  },
  {
   "cell_type": "code",
   "execution_count": 14,
   "id": "4a4d9752",
   "metadata": {},
   "outputs": [],
   "source": [
    "dict1 = {\"Name\":['vikas','vishal', 'uday', 'sid'],\n",
    "         \"Time of joining\": [datetime.time(9,15), np.nan, datetime.time(9,5), np.nan],\n",
    "         \"duration\":[30,0, 50, 0]}"
   ]
  },
  {
   "cell_type": "code",
   "execution_count": 15,
   "id": "2c104d5d",
   "metadata": {},
   "outputs": [],
   "source": [
    "dict2 = {\"Name\":['vikas','vishal', 'uday', 'sid'],\n",
    "         \"Time of joining\": [datetime.time(9,20), datetime.time(9,25), np.nan, np.nan],\n",
    "         \"duration\":[30,40,0, 0]}"
   ]
  },
  {
   "cell_type": "code",
   "execution_count": 16,
   "id": "1ff75b3f",
   "metadata": {},
   "outputs": [
    {
     "data": {
      "text/html": [
       "<div>\n",
       "<style scoped>\n",
       "    .dataframe tbody tr th:only-of-type {\n",
       "        vertical-align: middle;\n",
       "    }\n",
       "\n",
       "    .dataframe tbody tr th {\n",
       "        vertical-align: top;\n",
       "    }\n",
       "\n",
       "    .dataframe thead th {\n",
       "        text-align: right;\n",
       "    }\n",
       "</style>\n",
       "<table border=\"1\" class=\"dataframe\">\n",
       "  <thead>\n",
       "    <tr style=\"text-align: right;\">\n",
       "      <th></th>\n",
       "      <th>Name</th>\n",
       "      <th>Time of joining</th>\n",
       "      <th>duration</th>\n",
       "    </tr>\n",
       "  </thead>\n",
       "  <tbody>\n",
       "    <tr>\n",
       "      <th>0</th>\n",
       "      <td>vikas</td>\n",
       "      <td>09:15:00</td>\n",
       "      <td>30</td>\n",
       "    </tr>\n",
       "    <tr>\n",
       "      <th>1</th>\n",
       "      <td>vishal</td>\n",
       "      <td>NaN</td>\n",
       "      <td>0</td>\n",
       "    </tr>\n",
       "    <tr>\n",
       "      <th>2</th>\n",
       "      <td>uday</td>\n",
       "      <td>09:05:00</td>\n",
       "      <td>50</td>\n",
       "    </tr>\n",
       "    <tr>\n",
       "      <th>3</th>\n",
       "      <td>sid</td>\n",
       "      <td>NaN</td>\n",
       "      <td>0</td>\n",
       "    </tr>\n",
       "  </tbody>\n",
       "</table>\n",
       "</div>"
      ],
      "text/plain": [
       "     Name Time of joining  duration\n",
       "0   vikas        09:15:00        30\n",
       "1  vishal             NaN         0\n",
       "2    uday        09:05:00        50\n",
       "3     sid             NaN         0"
      ]
     },
     "metadata": {},
     "output_type": "display_data"
    },
    {
     "data": {
      "text/html": [
       "<div>\n",
       "<style scoped>\n",
       "    .dataframe tbody tr th:only-of-type {\n",
       "        vertical-align: middle;\n",
       "    }\n",
       "\n",
       "    .dataframe tbody tr th {\n",
       "        vertical-align: top;\n",
       "    }\n",
       "\n",
       "    .dataframe thead th {\n",
       "        text-align: right;\n",
       "    }\n",
       "</style>\n",
       "<table border=\"1\" class=\"dataframe\">\n",
       "  <thead>\n",
       "    <tr style=\"text-align: right;\">\n",
       "      <th></th>\n",
       "      <th>Name</th>\n",
       "      <th>Time of joining</th>\n",
       "      <th>duration</th>\n",
       "    </tr>\n",
       "  </thead>\n",
       "  <tbody>\n",
       "    <tr>\n",
       "      <th>0</th>\n",
       "      <td>vikas</td>\n",
       "      <td>09:20:00</td>\n",
       "      <td>30</td>\n",
       "    </tr>\n",
       "    <tr>\n",
       "      <th>1</th>\n",
       "      <td>vishal</td>\n",
       "      <td>09:25:00</td>\n",
       "      <td>40</td>\n",
       "    </tr>\n",
       "    <tr>\n",
       "      <th>2</th>\n",
       "      <td>uday</td>\n",
       "      <td>NaN</td>\n",
       "      <td>0</td>\n",
       "    </tr>\n",
       "    <tr>\n",
       "      <th>3</th>\n",
       "      <td>sid</td>\n",
       "      <td>NaN</td>\n",
       "      <td>0</td>\n",
       "    </tr>\n",
       "  </tbody>\n",
       "</table>\n",
       "</div>"
      ],
      "text/plain": [
       "     Name Time of joining  duration\n",
       "0   vikas        09:20:00        30\n",
       "1  vishal        09:25:00        40\n",
       "2    uday             NaN         0\n",
       "3     sid             NaN         0"
      ]
     },
     "metadata": {},
     "output_type": "display_data"
    }
   ],
   "source": [
    "data1 = pd.DataFrame(dict1)\n",
    "data2 = pd.DataFrame(dict2)\n",
    "\n",
    "display(data1, data2)"
   ]
  },
  {
   "cell_type": "markdown",
   "id": "03cfd5e3",
   "metadata": {},
   "source": [
    "## a. Perform merging of the two dataframes to find the names of students who had attended the workshop on both days."
   ]
  },
  {
   "cell_type": "code",
   "execution_count": 17,
   "id": "3907f917",
   "metadata": {},
   "outputs": [],
   "source": [
    "data = pd.concat([data1.dropna(), data2.dropna()],ignore_index=True)\n",
    "data = data[data['Name'].isin(data1.dropna()['Name']) & data['Name'].isin(data2.dropna()['Name'])]"
   ]
  },
  {
   "cell_type": "code",
   "execution_count": 18,
   "id": "594a4b17",
   "metadata": {},
   "outputs": [
    {
     "data": {
      "text/plain": [
       "array(['vikas'], dtype=object)"
      ]
     },
     "execution_count": 18,
     "metadata": {},
     "output_type": "execute_result"
    }
   ],
   "source": [
    "data['Name'].unique()"
   ]
  },
  {
   "cell_type": "markdown",
   "id": "0fb0b618",
   "metadata": {},
   "source": [
    "## b. Find names of all students who have attended workshop on either of the days."
   ]
  },
  {
   "cell_type": "code",
   "execution_count": 19,
   "id": "2c850ed4",
   "metadata": {},
   "outputs": [
    {
     "data": {
      "text/plain": [
       "0     vikas\n",
       "1      uday\n",
       "2     vikas\n",
       "3    vishal\n",
       "Name: Name, dtype: object"
      ]
     },
     "execution_count": 19,
     "metadata": {},
     "output_type": "execute_result"
    }
   ],
   "source": [
    "pd.concat([data1.dropna(), data2.dropna()],ignore_index=True)['Name']"
   ]
  },
  {
   "cell_type": "markdown",
   "id": "6c623a6d",
   "metadata": {},
   "source": [
    "## c. Merge two data frames row-wise and find the total number of records in the data frame."
   ]
  },
  {
   "cell_type": "code",
   "execution_count": 20,
   "id": "b504f917",
   "metadata": {},
   "outputs": [
    {
     "data": {
      "text/html": [
       "<div>\n",
       "<style scoped>\n",
       "    .dataframe tbody tr th:only-of-type {\n",
       "        vertical-align: middle;\n",
       "    }\n",
       "\n",
       "    .dataframe tbody tr th {\n",
       "        vertical-align: top;\n",
       "    }\n",
       "\n",
       "    .dataframe thead th {\n",
       "        text-align: right;\n",
       "    }\n",
       "</style>\n",
       "<table border=\"1\" class=\"dataframe\">\n",
       "  <thead>\n",
       "    <tr style=\"text-align: right;\">\n",
       "      <th></th>\n",
       "      <th>Name</th>\n",
       "      <th>Time of joining</th>\n",
       "      <th>duration</th>\n",
       "    </tr>\n",
       "  </thead>\n",
       "  <tbody>\n",
       "    <tr>\n",
       "      <th>0</th>\n",
       "      <td>vikas</td>\n",
       "      <td>09:15:00</td>\n",
       "      <td>30</td>\n",
       "    </tr>\n",
       "    <tr>\n",
       "      <th>1</th>\n",
       "      <td>vishal</td>\n",
       "      <td>NaN</td>\n",
       "      <td>0</td>\n",
       "    </tr>\n",
       "    <tr>\n",
       "      <th>2</th>\n",
       "      <td>uday</td>\n",
       "      <td>09:05:00</td>\n",
       "      <td>50</td>\n",
       "    </tr>\n",
       "    <tr>\n",
       "      <th>3</th>\n",
       "      <td>sid</td>\n",
       "      <td>NaN</td>\n",
       "      <td>0</td>\n",
       "    </tr>\n",
       "    <tr>\n",
       "      <th>4</th>\n",
       "      <td>vikas</td>\n",
       "      <td>09:20:00</td>\n",
       "      <td>30</td>\n",
       "    </tr>\n",
       "    <tr>\n",
       "      <th>5</th>\n",
       "      <td>vishal</td>\n",
       "      <td>09:25:00</td>\n",
       "      <td>40</td>\n",
       "    </tr>\n",
       "    <tr>\n",
       "      <th>6</th>\n",
       "      <td>uday</td>\n",
       "      <td>NaN</td>\n",
       "      <td>0</td>\n",
       "    </tr>\n",
       "    <tr>\n",
       "      <th>7</th>\n",
       "      <td>sid</td>\n",
       "      <td>NaN</td>\n",
       "      <td>0</td>\n",
       "    </tr>\n",
       "  </tbody>\n",
       "</table>\n",
       "</div>"
      ],
      "text/plain": [
       "     Name Time of joining  duration\n",
       "0   vikas        09:15:00        30\n",
       "1  vishal             NaN         0\n",
       "2    uday        09:05:00        50\n",
       "3     sid             NaN         0\n",
       "4   vikas        09:20:00        30\n",
       "5  vishal        09:25:00        40\n",
       "6    uday             NaN         0\n",
       "7     sid             NaN         0"
      ]
     },
     "execution_count": 20,
     "metadata": {},
     "output_type": "execute_result"
    }
   ],
   "source": [
    "combinedata = pd.concat([data1, data2],ignore_index=True)\n",
    "combinedata"
   ]
  },
  {
   "cell_type": "code",
   "execution_count": 21,
   "id": "d17f15d9",
   "metadata": {},
   "outputs": [
    {
     "name": "stdout",
     "output_type": "stream",
     "text": [
      "total_records\n"
     ]
    },
    {
     "data": {
      "text/plain": [
       "8"
      ]
     },
     "execution_count": 21,
     "metadata": {},
     "output_type": "execute_result"
    }
   ],
   "source": [
    "print('total_records')\n",
    "len(combinedata)"
   ]
  },
  {
   "cell_type": "markdown",
   "id": "a3bfb295",
   "metadata": {},
   "source": [
    "## d. Merge two data frames and use two columns names and duration as multi-row indexes. Generate descriptive statistics for this multi-index."
   ]
  },
  {
   "cell_type": "code",
   "execution_count": 22,
   "id": "dd49477a",
   "metadata": {},
   "outputs": [],
   "source": [
    "multirow_index_data = combinedata.set_index(['Name', 'duration'])"
   ]
  },
  {
   "cell_type": "code",
   "execution_count": 23,
   "id": "2081a26b",
   "metadata": {},
   "outputs": [
    {
     "data": {
      "text/plain": [
       "MultiIndex([( 'vikas', 30),\n",
       "            ('vishal',  0),\n",
       "            (  'uday', 50),\n",
       "            (   'sid',  0),\n",
       "            ( 'vikas', 30),\n",
       "            ('vishal', 40),\n",
       "            (  'uday',  0),\n",
       "            (   'sid',  0)],\n",
       "           names=['Name', 'duration'])"
      ]
     },
     "execution_count": 23,
     "metadata": {},
     "output_type": "execute_result"
    }
   ],
   "source": [
    "multirow_index_data.index"
   ]
  },
  {
   "cell_type": "code",
   "execution_count": 24,
   "id": "56968a78",
   "metadata": {},
   "outputs": [
    {
     "name": "stdout",
     "output_type": "stream",
     "text": [
      "Original DataFrame:\n",
      "\n"
     ]
    },
    {
     "data": {
      "text/html": [
       "<div>\n",
       "<style scoped>\n",
       "    .dataframe tbody tr th:only-of-type {\n",
       "        vertical-align: middle;\n",
       "    }\n",
       "\n",
       "    .dataframe tbody tr th {\n",
       "        vertical-align: top;\n",
       "    }\n",
       "\n",
       "    .dataframe thead th {\n",
       "        text-align: right;\n",
       "    }\n",
       "</style>\n",
       "<table border=\"1\" class=\"dataframe\">\n",
       "  <thead>\n",
       "    <tr style=\"text-align: right;\">\n",
       "      <th></th>\n",
       "      <th></th>\n",
       "      <th>Time of joining</th>\n",
       "    </tr>\n",
       "    <tr>\n",
       "      <th>Name</th>\n",
       "      <th>duration</th>\n",
       "      <th></th>\n",
       "    </tr>\n",
       "  </thead>\n",
       "  <tbody>\n",
       "    <tr>\n",
       "      <th>vikas</th>\n",
       "      <th>30</th>\n",
       "      <td>09:15:00</td>\n",
       "    </tr>\n",
       "    <tr>\n",
       "      <th>vishal</th>\n",
       "      <th>0</th>\n",
       "      <td>NaN</td>\n",
       "    </tr>\n",
       "    <tr>\n",
       "      <th>uday</th>\n",
       "      <th>50</th>\n",
       "      <td>09:05:00</td>\n",
       "    </tr>\n",
       "    <tr>\n",
       "      <th>sid</th>\n",
       "      <th>0</th>\n",
       "      <td>NaN</td>\n",
       "    </tr>\n",
       "    <tr>\n",
       "      <th>vikas</th>\n",
       "      <th>30</th>\n",
       "      <td>09:20:00</td>\n",
       "    </tr>\n",
       "    <tr>\n",
       "      <th>vishal</th>\n",
       "      <th>40</th>\n",
       "      <td>09:25:00</td>\n",
       "    </tr>\n",
       "    <tr>\n",
       "      <th>uday</th>\n",
       "      <th>0</th>\n",
       "      <td>NaN</td>\n",
       "    </tr>\n",
       "    <tr>\n",
       "      <th>sid</th>\n",
       "      <th>0</th>\n",
       "      <td>NaN</td>\n",
       "    </tr>\n",
       "  </tbody>\n",
       "</table>\n",
       "</div>"
      ],
      "text/plain": [
       "                Time of joining\n",
       "Name   duration                \n",
       "vikas  30              09:15:00\n",
       "vishal 0                    NaN\n",
       "uday   50              09:05:00\n",
       "sid    0                    NaN\n",
       "vikas  30              09:20:00\n",
       "vishal 40              09:25:00\n",
       "uday   0                    NaN\n",
       "sid    0                    NaN"
      ]
     },
     "metadata": {},
     "output_type": "display_data"
    },
    {
     "name": "stdout",
     "output_type": "stream",
     "text": [
      "\n",
      "Descriptive statistics of data:\n",
      "\n",
      "count            4\n",
      "unique           4\n",
      "top       09:15:00\n",
      "freq             1\n",
      "Name: Time of joining, dtype: object\n"
     ]
    }
   ],
   "source": [
    "print(\"Original DataFrame:\\n\")\n",
    "display(multirow_index_data)\n",
    "\n",
    "\n",
    "# Describing descriptive statistics of Year\n",
    "print(\"\\nDescriptive statistics of data:\\n\")\n",
    "stats = multirow_index_data['Time of joining'].describe()\n",
    "print(stats)"
   ]
  },
  {
   "cell_type": "code",
   "execution_count": null,
   "id": "b167bd78",
   "metadata": {},
   "outputs": [],
   "source": []
  }
 ],
 "metadata": {
  "kernelspec": {
   "display_name": "Python 3.9.12 ('base')",
   "language": "python",
   "name": "python3"
  },
  "language_info": {
   "codemirror_mode": {
    "name": "ipython",
    "version": 3
   },
   "file_extension": ".py",
   "mimetype": "text/x-python",
   "name": "python",
   "nbconvert_exporter": "python",
   "pygments_lexer": "ipython3",
   "version": "3.9.12"
  },
  "vscode": {
   "interpreter": {
    "hash": "36526bd4932420a386fe19e89d3f7c800a069b36dd87d412ba674b50a2ad3fe4"
   }
  }
 },
 "nbformat": 4,
 "nbformat_minor": 5
}
