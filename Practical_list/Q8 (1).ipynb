{
  "nbformat": 4,
  "nbformat_minor": 0,
  "metadata": {
    "kernelspec": {
      "display_name": "Python 3",
      "language": "python",
      "name": "python3"
    },
    "language_info": {
      "codemirror_mode": {
        "name": "ipython",
        "version": 3
      },
      "file_extension": ".py",
      "mimetype": "text/x-python",
      "name": "python",
      "nbconvert_exporter": "python",
      "pygments_lexer": "ipython3",
      "version": "3.7.4"
    },
    "colab": {
      "name": "Q8.ipynb",
      "provenance": []
    }
  },
  "cells": [
    {
      "cell_type": "markdown",
      "metadata": {
        "id": "coyHqgh0lLfK"
      },
      "source": [
        "**Q8. Consider the following data frame containing a family name, gender of the family member and her/his monthly income in each record.**"
      ]
    },
    {
      "cell_type": "code",
      "metadata": {
        "id": "tQ3MXPT_lLfK"
      },
      "source": [
        "import numpy as np\n",
        "import pandas as pd"
      ],
      "execution_count": null,
      "outputs": []
    },
    {
      "cell_type": "code",
      "metadata": {
        "scrolled": true,
        "id": "dAnqoOTJlLfK",
        "outputId": "14fa64a8-4704-47e2-c2a3-bdc1bac03b76"
      },
      "source": [
        "df = pd.read_csv('FamilyData.csv')\n",
        "df"
      ],
      "execution_count": null,
      "outputs": [
        {
          "data": {
            "text/html": [
              "<div>\n",
              "<style scoped>\n",
              "    .dataframe tbody tr th:only-of-type {\n",
              "        vertical-align: middle;\n",
              "    }\n",
              "\n",
              "    .dataframe tbody tr th {\n",
              "        vertical-align: top;\n",
              "    }\n",
              "\n",
              "    .dataframe thead th {\n",
              "        text-align: right;\n",
              "    }\n",
              "</style>\n",
              "<table border=\"1\" class=\"dataframe\">\n",
              "  <thead>\n",
              "    <tr style=\"text-align: right;\">\n",
              "      <th></th>\n",
              "      <th>Name</th>\n",
              "      <th>Gender</th>\n",
              "      <th>Monthly Income (Rs.)</th>\n",
              "    </tr>\n",
              "  </thead>\n",
              "  <tbody>\n",
              "    <tr>\n",
              "      <td>0</td>\n",
              "      <td>Shah</td>\n",
              "      <td>Male</td>\n",
              "      <td>114000</td>\n",
              "    </tr>\n",
              "    <tr>\n",
              "      <td>1</td>\n",
              "      <td>Vats</td>\n",
              "      <td>Male</td>\n",
              "      <td>65000</td>\n",
              "    </tr>\n",
              "    <tr>\n",
              "      <td>2</td>\n",
              "      <td>Vats</td>\n",
              "      <td>Female</td>\n",
              "      <td>43150</td>\n",
              "    </tr>\n",
              "    <tr>\n",
              "      <td>3</td>\n",
              "      <td>Kumar</td>\n",
              "      <td>Female</td>\n",
              "      <td>69500</td>\n",
              "    </tr>\n",
              "    <tr>\n",
              "      <td>4</td>\n",
              "      <td>Vats</td>\n",
              "      <td>Female</td>\n",
              "      <td>155000</td>\n",
              "    </tr>\n",
              "    <tr>\n",
              "      <td>5</td>\n",
              "      <td>Kumar</td>\n",
              "      <td>Male</td>\n",
              "      <td>103000</td>\n",
              "    </tr>\n",
              "    <tr>\n",
              "      <td>6</td>\n",
              "      <td>Shah</td>\n",
              "      <td>Male</td>\n",
              "      <td>55000</td>\n",
              "    </tr>\n",
              "    <tr>\n",
              "      <td>7</td>\n",
              "      <td>Shah</td>\n",
              "      <td>Female</td>\n",
              "      <td>112400</td>\n",
              "    </tr>\n",
              "    <tr>\n",
              "      <td>8</td>\n",
              "      <td>Kumar</td>\n",
              "      <td>Female</td>\n",
              "      <td>81030</td>\n",
              "    </tr>\n",
              "    <tr>\n",
              "      <td>9</td>\n",
              "      <td>Vats</td>\n",
              "      <td>Male</td>\n",
              "      <td>71900</td>\n",
              "    </tr>\n",
              "  </tbody>\n",
              "</table>\n",
              "</div>"
            ],
            "text/plain": [
              "    Name  Gender  Monthly Income (Rs.)\n",
              "0   Shah    Male                114000\n",
              "1   Vats    Male                 65000\n",
              "2   Vats  Female                 43150\n",
              "3  Kumar  Female                 69500\n",
              "4   Vats  Female                155000\n",
              "5  Kumar    Male                103000\n",
              "6   Shah    Male                 55000\n",
              "7   Shah  Female                112400\n",
              "8  Kumar  Female                 81030\n",
              "9   Vats    Male                 71900"
            ]
          },
          "execution_count": 2,
          "metadata": {},
          "output_type": "execute_result"
        }
      ]
    },
    {
      "cell_type": "markdown",
      "metadata": {
        "id": "rJKB7FCllLfK"
      },
      "source": [
        "**Write a program in Python using Pandas to perform the following:**"
      ]
    },
    {
      "cell_type": "markdown",
      "metadata": {
        "id": "mZWkAHVelLfK"
      },
      "source": [
        "**a. Calculate and display familywise gross monthly income.**"
      ]
    },
    {
      "cell_type": "code",
      "metadata": {
        "id": "2dswj2s6lLfK",
        "outputId": "999abe03-1a51-4b8b-a0a9-89283d8044ca"
      },
      "source": [
        "df.groupby('Name')['Monthly Income (Rs.)'].sum()"
      ],
      "execution_count": null,
      "outputs": [
        {
          "data": {
            "text/plain": [
              "Name\n",
              "Kumar    253530\n",
              "Shah     281400\n",
              "Vats     335050\n",
              "Name: Monthly Income (Rs.), dtype: int64"
            ]
          },
          "execution_count": 3,
          "metadata": {},
          "output_type": "execute_result"
        }
      ]
    },
    {
      "cell_type": "markdown",
      "metadata": {
        "id": "g0OVPxrllLfK"
      },
      "source": [
        "**b. Calculate and display the member with the highest monthly income in a family.**"
      ]
    },
    {
      "cell_type": "code",
      "metadata": {
        "id": "jOVwiyEMlLfK",
        "outputId": "b5dfecb9-3cee-45c4-fa77-de7c7c770632"
      },
      "source": [
        "df1 = pd.DataFrame(df.groupby('Name')['Monthly Income (Rs.)'].max())\n",
        "print(df1)"
      ],
      "execution_count": null,
      "outputs": [
        {
          "name": "stdout",
          "output_type": "stream",
          "text": [
            "       Monthly Income (Rs.)\n",
            "Name                       \n",
            "Kumar                103000\n",
            "Shah                 114000\n",
            "Vats                 155000\n"
          ]
        }
      ]
    },
    {
      "cell_type": "markdown",
      "metadata": {
        "id": "_yz0ZkqYlLfK"
      },
      "source": [
        "**c. Calculate and display monthly income of all members with income greater than Rs. 60000.00.**"
      ]
    },
    {
      "cell_type": "code",
      "metadata": {
        "id": "39DQuhs7lLfK",
        "outputId": "02ac2eac-0e68-4470-f04b-bf9986306022"
      },
      "source": [
        "df[df['Monthly Income (Rs.)'] > 60000]"
      ],
      "execution_count": null,
      "outputs": [
        {
          "data": {
            "text/html": [
              "<div>\n",
              "<style scoped>\n",
              "    .dataframe tbody tr th:only-of-type {\n",
              "        vertical-align: middle;\n",
              "    }\n",
              "\n",
              "    .dataframe tbody tr th {\n",
              "        vertical-align: top;\n",
              "    }\n",
              "\n",
              "    .dataframe thead th {\n",
              "        text-align: right;\n",
              "    }\n",
              "</style>\n",
              "<table border=\"1\" class=\"dataframe\">\n",
              "  <thead>\n",
              "    <tr style=\"text-align: right;\">\n",
              "      <th></th>\n",
              "      <th>Name</th>\n",
              "      <th>Gender</th>\n",
              "      <th>Monthly Income (Rs.)</th>\n",
              "    </tr>\n",
              "  </thead>\n",
              "  <tbody>\n",
              "    <tr>\n",
              "      <td>0</td>\n",
              "      <td>Shah</td>\n",
              "      <td>Male</td>\n",
              "      <td>114000</td>\n",
              "    </tr>\n",
              "    <tr>\n",
              "      <td>1</td>\n",
              "      <td>Vats</td>\n",
              "      <td>Male</td>\n",
              "      <td>65000</td>\n",
              "    </tr>\n",
              "    <tr>\n",
              "      <td>3</td>\n",
              "      <td>Kumar</td>\n",
              "      <td>Female</td>\n",
              "      <td>69500</td>\n",
              "    </tr>\n",
              "    <tr>\n",
              "      <td>4</td>\n",
              "      <td>Vats</td>\n",
              "      <td>Female</td>\n",
              "      <td>155000</td>\n",
              "    </tr>\n",
              "    <tr>\n",
              "      <td>5</td>\n",
              "      <td>Kumar</td>\n",
              "      <td>Male</td>\n",
              "      <td>103000</td>\n",
              "    </tr>\n",
              "    <tr>\n",
              "      <td>7</td>\n",
              "      <td>Shah</td>\n",
              "      <td>Female</td>\n",
              "      <td>112400</td>\n",
              "    </tr>\n",
              "    <tr>\n",
              "      <td>8</td>\n",
              "      <td>Kumar</td>\n",
              "      <td>Female</td>\n",
              "      <td>81030</td>\n",
              "    </tr>\n",
              "    <tr>\n",
              "      <td>9</td>\n",
              "      <td>Vats</td>\n",
              "      <td>Male</td>\n",
              "      <td>71900</td>\n",
              "    </tr>\n",
              "  </tbody>\n",
              "</table>\n",
              "</div>"
            ],
            "text/plain": [
              "    Name  Gender  Monthly Income (Rs.)\n",
              "0   Shah    Male                114000\n",
              "1   Vats    Male                 65000\n",
              "3  Kumar  Female                 69500\n",
              "4   Vats  Female                155000\n",
              "5  Kumar    Male                103000\n",
              "7   Shah  Female                112400\n",
              "8  Kumar  Female                 81030\n",
              "9   Vats    Male                 71900"
            ]
          },
          "execution_count": 5,
          "metadata": {},
          "output_type": "execute_result"
        }
      ]
    },
    {
      "cell_type": "markdown",
      "metadata": {
        "id": "JmxFvVJYlLfZ"
      },
      "source": [
        "**d. Calculate and display the average monthly income of the female members in the Shah family.**"
      ]
    },
    {
      "cell_type": "code",
      "metadata": {
        "id": "ahWqcuRRlLfZ",
        "outputId": "00990c65-d3e0-4cc2-ea90-d20305e6f212"
      },
      "source": [
        "df[(df['Name'] == 'Shah') & (df['Gender'] == 'Female')]['Monthly Income (Rs.)'].mean()"
      ],
      "execution_count": null,
      "outputs": [
        {
          "data": {
            "text/plain": [
              "112400.0"
            ]
          },
          "execution_count": 6,
          "metadata": {},
          "output_type": "execute_result"
        }
      ]
    }
  ]
}