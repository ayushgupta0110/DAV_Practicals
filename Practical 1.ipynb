{
 "cells": [
  {
   "cell_type": "markdown",
   "id": "56a387d7",
   "metadata": {},
   "source": [
    "Practicle 1 Given below is a dictionary having two keys ‘Boys’ and ‘Girls’ and having two lists of heights of five Boys and Five Girls respectively as values associated with these keys"
   ]
  },
  {
   "cell_type": "code",
   "execution_count": 1,
   "id": "d3fdae8c",
   "metadata": {},
   "outputs": [],
   "source": [
    "my_dict = {'Boys': [72, 68, 70, 69, 74], 'Girls': [63, 65, 69, 62, 61]}"
   ]
  },
  {
   "cell_type": "code",
   "execution_count": 2,
   "id": "45157e40",
   "metadata": {},
   "outputs": [
    {
     "data": {
      "text/plain": [
       "{'Boys': [72, 68, 70, 69, 74], 'Girls': [63, 65, 69, 62, 61]}"
      ]
     },
     "execution_count": 2,
     "metadata": {},
     "output_type": "execute_result"
    }
   ],
   "source": [
    "my_dict"
   ]
  },
  {
   "cell_type": "code",
   "execution_count": 3,
   "id": "ed824842",
   "metadata": {},
   "outputs": [],
   "source": [
    "# Creating List of dictonaries"
   ]
  },
  {
   "cell_type": "code",
   "execution_count": 4,
   "id": "309bac39",
   "metadata": {},
   "outputs": [],
   "source": [
    "list_of_dicts = [{key : value[i] for key, value in my_dict.items()} for i in range(5)]"
   ]
  },
  {
   "cell_type": "code",
   "execution_count": 5,
   "id": "88fc565c",
   "metadata": {},
   "outputs": [
    {
     "data": {
      "text/plain": [
       "[{'Boys': 72, 'Girls': 63},\n",
       " {'Boys': 68, 'Girls': 65},\n",
       " {'Boys': 70, 'Girls': 69},\n",
       " {'Boys': 69, 'Girls': 62},\n",
       " {'Boys': 74, 'Girls': 61}]"
      ]
     },
     "execution_count": 5,
     "metadata": {},
     "output_type": "execute_result"
    }
   ],
   "source": [
    "list_of_dicts"
   ]
  },
  {
   "cell_type": "code",
   "execution_count": null,
   "id": "4acdfae6",
   "metadata": {},
   "outputs": [],
   "source": []
  }
 ],
 "metadata": {
  "kernelspec": {
   "display_name": "Python 3.9.12 ('base')",
   "language": "python",
   "name": "python3"
  },
  "language_info": {
   "codemirror_mode": {
    "name": "ipython",
    "version": 3
   },
   "file_extension": ".py",
   "mimetype": "text/x-python",
   "name": "python",
   "nbconvert_exporter": "python",
   "pygments_lexer": "ipython3",
   "version": "3.9.12"
  },
  "vscode": {
   "interpreter": {
    "hash": "36526bd4932420a386fe19e89d3f7c800a069b36dd87d412ba674b50a2ad3fe4"
   }
  }
 },
 "nbformat": 4,
 "nbformat_minor": 5
}
