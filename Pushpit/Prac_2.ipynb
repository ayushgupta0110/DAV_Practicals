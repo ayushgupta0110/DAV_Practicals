{
 "cells": [
  {
   "cell_type": "code",
   "execution_count": 1,
   "id": "6d7cf411",
   "metadata": {},
   "outputs": [
    {
     "data": {
      "text/plain": [
       "array([[8, 5, 7, 0, 6],\n",
       "       [0, 0, 0, 7, 0],\n",
       "       [5, 8, 2, 9, 4],\n",
       "       [0, 6, 5, 2, 3],\n",
       "       [5, 7, 3, 6, 0],\n",
       "       [1, 4, 7, 8, 2],\n",
       "       [3, 7, 1, 8, 4]])"
      ]
     },
     "execution_count": 1,
     "metadata": {},
     "output_type": "execute_result"
    }
   ],
   "source": [
    "# 2(a)\n",
    "\n",
    "import numpy as np\n",
    "data = np.random.randint(10,size =(7,5))\n",
    "data"
   ]
  },
  {
   "cell_type": "code",
   "execution_count": 2,
   "id": "4857d5b5",
   "metadata": {},
   "outputs": [
    {
     "name": "stdout",
     "output_type": "stream",
     "text": [
      "Mean of row  1 :  5.2\n",
      "Standard Deviation of row  1 :  2.7856776554368237\n",
      "Variance of row  1 :  7.76\n",
      "\n",
      "\n",
      "Mean of row  2 :  1.4\n",
      "Standard Deviation of row  2 :  2.8\n",
      "Variance of row  2 :  7.839999999999999\n",
      "\n",
      "\n",
      "Mean of row  3 :  5.6\n",
      "Standard Deviation of row  3 :  2.5768197453450252\n",
      "Variance of row  3 :  6.640000000000001\n",
      "\n",
      "\n",
      "Mean of row  4 :  3.2\n",
      "Standard Deviation of row  4 :  2.1354156504062622\n",
      "Variance of row  4 :  4.5600000000000005\n",
      "\n",
      "\n",
      "Mean of row  5 :  4.2\n",
      "Standard Deviation of row  5 :  2.481934729198171\n",
      "Variance of row  5 :  6.159999999999999\n",
      "\n",
      "\n",
      "Mean of row  6 :  4.4\n",
      "Standard Deviation of row  6 :  2.727636339397171\n",
      "Variance of row  6 :  7.44\n",
      "\n",
      "\n",
      "Mean of row  7 :  4.6\n",
      "Standard Deviation of row  7 :  2.5768197453450252\n",
      "Variance of row  7 :  6.640000000000001\n",
      "\n",
      "\n"
     ]
    }
   ],
   "source": [
    "for i in range(7):\n",
    "    m = np.mean(data[i])\n",
    "    s = np.std(data[i])\n",
    "    v = np.var(data[i])\n",
    "    print(\"Mean of row \",i+1,\": \",m)\n",
    "    print(\"Standard Deviation of row \",i+1,\": \",s)\n",
    "    print(\"Variance of row \",i+1,\": \",v)\n",
    "    print(\"\\n\")"
   ]
  },
  {
   "cell_type": "code",
   "execution_count": 3,
   "id": "5698b651",
   "metadata": {},
   "outputs": [
    {
     "name": "stdout",
     "output_type": "stream",
     "text": [
      "Original array:\n",
      "[56 48 22 41 78 91 24 46  8 33]\n",
      "Indices of the sorted elements of a given array:\n",
      "[8 2 6 9 3 7 1 0 4 5]\n"
     ]
    }
   ],
   "source": [
    "# 2(b)\n",
    "\n",
    "B = np.array([56, 48, 22, 41, 78, 91, 24, 46, 8, 33])\n",
    "print(\"Original array:\")\n",
    "print(B)\n",
    "i = np.argsort(B)\n",
    "print(\"Indices of the sorted elements of a given array:\")\n",
    "print(i)"
   ]
  },
  {
   "cell_type": "code",
   "execution_count": 4,
   "id": "3da686ca",
   "metadata": {},
   "outputs": [
    {
     "name": "stdout",
     "output_type": "stream",
     "text": [
      "No.of rows of 2D array: 3\n",
      "No.of columns of 2D array: 4\n"
     ]
    },
    {
     "data": {
      "text/plain": [
       "array([[10, 65, 63, 19],\n",
       "       [62, 69, 72, 22],\n",
       "       [77, 60, 15, 73]])"
      ]
     },
     "execution_count": 4,
     "metadata": {},
     "output_type": "execute_result"
    }
   ],
   "source": [
    "# 2(c)\n",
    "\n",
    "m = int(input(\"No.of rows of 2D array: \"))\n",
    "n = int(input(\"No.of columns of 2D array: \"))\n",
    "arr = np.random.randint(100,size =(m,n))\n",
    "arr"
   ]
  },
  {
   "cell_type": "code",
   "execution_count": 5,
   "id": "9375777c",
   "metadata": {},
   "outputs": [
    {
     "name": "stdout",
     "output_type": "stream",
     "text": [
      "Shape of the array:  (3, 4)\n"
     ]
    }
   ],
   "source": [
    "print(\"Shape of the array: \", np.shape(arr))"
   ]
  },
  {
   "cell_type": "code",
   "execution_count": 6,
   "id": "2f452963",
   "metadata": {},
   "outputs": [
    {
     "name": "stdout",
     "output_type": "stream",
     "text": [
      "Type of the array:  <class 'numpy.ndarray'>\n"
     ]
    }
   ],
   "source": [
    "print(\"Type of the array: \", type(arr))"
   ]
  },
  {
   "cell_type": "code",
   "execution_count": 7,
   "id": "83fbe2a5",
   "metadata": {},
   "outputs": [
    {
     "name": "stdout",
     "output_type": "stream",
     "text": [
      "Shape of the array:  int64\n"
     ]
    }
   ],
   "source": [
    "print(\"Shape of the array: \", arr.dtype)"
   ]
  },
  {
   "cell_type": "code",
   "execution_count": 8,
   "id": "82f10b5d",
   "metadata": {},
   "outputs": [
    {
     "data": {
      "text/plain": [
       "array([[10, 65, 63],\n",
       "       [19, 62, 69],\n",
       "       [72, 22, 77],\n",
       "       [60, 15, 73]])"
      ]
     },
     "execution_count": 8,
     "metadata": {},
     "output_type": "execute_result"
    }
   ],
   "source": [
    "arr1 = arr.reshape(n,m)\n",
    "arr1"
   ]
  },
  {
   "cell_type": "code",
   "execution_count": 9,
   "id": "dc710216",
   "metadata": {},
   "outputs": [
    {
     "data": {
      "text/plain": [
       "array([ 5.,  2.,  0.,  6., nan,  9., 28.,  0.,  6.,  0., nan,  7.,  3.,\n",
       "        0.])"
      ]
     },
     "execution_count": 9,
     "metadata": {},
     "output_type": "execute_result"
    }
   ],
   "source": [
    "# 2(d)\n",
    "\n",
    "arr2 = np.array([5,2,0,6,np.nan,9,28,0,6,0,np.nan,7,3,0])\n",
    "arr2"
   ]
  },
  {
   "cell_type": "code",
   "execution_count": 10,
   "id": "4dcc8138",
   "metadata": {},
   "outputs": [
    {
     "data": {
      "text/plain": [
       "(array([ 2,  7,  9, 13]),)"
      ]
     },
     "execution_count": 10,
     "metadata": {},
     "output_type": "execute_result"
    }
   ],
   "source": [
    "z = np.where(arr2==0)\n",
    "z"
   ]
  },
  {
   "cell_type": "code",
   "execution_count": 11,
   "id": "f1144207",
   "metadata": {},
   "outputs": [
    {
     "data": {
      "text/plain": [
       "(array([ 0,  1,  3,  4,  5,  6,  8, 10, 11, 12]),)"
      ]
     },
     "execution_count": 11,
     "metadata": {},
     "output_type": "execute_result"
    }
   ],
   "source": [
    "nz = np.nonzero(arr2)\n",
    "nz"
   ]
  },
  {
   "cell_type": "code",
   "execution_count": 12,
   "id": "f5563c2c",
   "metadata": {},
   "outputs": [
    {
     "data": {
      "text/plain": [
       "array([[ 4],\n",
       "       [10]])"
      ]
     },
     "execution_count": 12,
     "metadata": {},
     "output_type": "execute_result"
    }
   ],
   "source": [
    "na = (np.argwhere(np.isnan(arr2)))\n",
    "na"
   ]
  },
  {
   "cell_type": "code",
   "execution_count": null,
   "id": "a8a136c4",
   "metadata": {},
   "outputs": [],
   "source": []
  }
 ],
 "metadata": {
  "kernelspec": {
   "display_name": "Python 3",
   "language": "python",
   "name": "python3"
  },
  "language_info": {
   "codemirror_mode": {
    "name": "ipython",
    "version": 3
   },
   "file_extension": ".py",
   "mimetype": "text/x-python",
   "name": "python",
   "nbconvert_exporter": "python",
   "pygments_lexer": "ipython3",
   "version": "3.8.8"
  }
 },
 "nbformat": 4,
 "nbformat_minor": 5
}
