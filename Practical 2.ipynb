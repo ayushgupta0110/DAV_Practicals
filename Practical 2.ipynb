{
 "cells": [
  {
   "cell_type": "markdown",
   "id": "c2d36fab",
   "metadata": {},
   "source": [
    "# Practicle 2"
   ]
  },
  {
   "cell_type": "code",
   "execution_count": 1,
   "id": "4ad47959",
   "metadata": {},
   "outputs": [
    {
     "name": "stdout",
     "output_type": "stream",
     "text": [
      "Original array:\n",
      "[[ 10  30  50  70  90]\n",
      " [ 20  60 100 140 180]]\n"
     ]
    }
   ],
   "source": [
    "import numpy as np\n",
    "\n",
    "x = np.array([[10, 30, 50, 70, 90], [20, 60, 100, 140, 180]])\n",
    "\n",
    "print(\"Original array:\")\n",
    "print(x)"
   ]
  },
  {
   "cell_type": "markdown",
   "id": "52748e41",
   "metadata": {},
   "source": [
    "## a"
   ]
  },
  {
   "cell_type": "code",
   "execution_count": 2,
   "id": "035c8a39",
   "metadata": {},
   "outputs": [
    {
     "name": "stdout",
     "output_type": "stream",
     "text": [
      "Mean\n",
      "[ 50. 100.]\n"
     ]
    }
   ],
   "source": [
    "print(\"Mean\")\n",
    "print(np.mean(x, axis=1))"
   ]
  },
  {
   "cell_type": "code",
   "execution_count": 3,
   "id": "450c0e7a",
   "metadata": {},
   "outputs": [
    {
     "name": "stdout",
     "output_type": "stream",
     "text": [
      "standard deviation\n",
      "[28.28427125 56.56854249]\n"
     ]
    }
   ],
   "source": [
    "print(\"standard deviation\")\n",
    "print(np.std(x, axis=1))"
   ]
  },
  {
   "cell_type": "code",
   "execution_count": 4,
   "id": "11ae0945",
   "metadata": {},
   "outputs": [
    {
     "name": "stdout",
     "output_type": "stream",
     "text": [
      "variance \n",
      "[ 800. 3200.]\n"
     ]
    }
   ],
   "source": [
    "print(\"variance \")\n",
    "print(np.var(x, axis=1))"
   ]
  },
  {
   "cell_type": "markdown",
   "id": "9f281976",
   "metadata": {},
   "source": [
    "## b"
   ]
  },
  {
   "cell_type": "code",
   "execution_count": 5,
   "id": "a1765c78",
   "metadata": {},
   "outputs": [
    {
     "name": "stdout",
     "output_type": "stream",
     "text": [
      "array - [56, 48, 22, 41, 78, 91, 24, 46, 8, 33]\n",
      "sorted indices -  [8 2 6 9 3 7 1 0 4 5]\n"
     ]
    }
   ],
   "source": [
    "B = [56, 48, 22, 41, 78, 91, 24, 46, 8, 33]\n",
    "print('array -', B)\n",
    "\n",
    "indices = np.argsort(B)\n",
    "print('sorted indices - ',indices)"
   ]
  },
  {
   "cell_type": "markdown",
   "id": "5bafe080",
   "metadata": {},
   "source": [
    "## c"
   ]
  },
  {
   "cell_type": "code",
   "execution_count": 6,
   "id": "0252929c",
   "metadata": {},
   "outputs": [
    {
     "name": "stdout",
     "output_type": "stream",
     "text": [
      "Enter Array size \n",
      "m = 5\n",
      "n = 6\n",
      "Random set of rows from 2D array array:\n",
      "[[ 5  1 23  5 17 21]\n",
      " [14 39 29 40  2 29]\n",
      " [12  1 24 27 19 31]\n",
      " [13 45 11 45 28 18]\n",
      " [10 12  7 29 20 19]]\n"
     ]
    }
   ],
   "source": [
    "import numpy as np\n",
    "\n",
    "print('Enter Array size ')\n",
    "m = int(input(\"m = \"))\n",
    "n = int(input(\"n = \"))\n",
    "\n",
    "new_array = np.random.randint(50, size=(m,n))\n",
    "\n",
    "print(\"Random set of rows from 2D array array:\")\n",
    "print(new_array)"
   ]
  },
  {
   "cell_type": "code",
   "execution_count": 7,
   "id": "f95c11bf",
   "metadata": {},
   "outputs": [
    {
     "name": "stdout",
     "output_type": "stream",
     "text": [
      "Shape\n",
      "(5, 6)\n"
     ]
    }
   ],
   "source": [
    "print('Shape')\n",
    "print(new_array.shape)"
   ]
  },
  {
   "cell_type": "code",
   "execution_count": 8,
   "id": "815bd599",
   "metadata": {},
   "outputs": [
    {
     "name": "stdout",
     "output_type": "stream",
     "text": [
      "Type\n",
      "<class 'numpy.ndarray'>\n"
     ]
    }
   ],
   "source": [
    "print('Type')\n",
    "print(type(new_array))"
   ]
  },
  {
   "cell_type": "code",
   "execution_count": 9,
   "id": "7fbf45b6",
   "metadata": {},
   "outputs": [
    {
     "name": "stdout",
     "output_type": "stream",
     "text": [
      "Dtype\n",
      "int32\n"
     ]
    }
   ],
   "source": [
    "print('Dtype')\n",
    "print(new_array.dtype)"
   ]
  },
  {
   "cell_type": "code",
   "execution_count": 10,
   "id": "bb2f06b2",
   "metadata": {},
   "outputs": [
    {
     "name": "stdout",
     "output_type": "stream",
     "text": [
      "Reshape array\n",
      "m = 6\n",
      "n = 5\n"
     ]
    },
    {
     "data": {
      "text/plain": [
       "array([[ 5,  1, 23,  5, 17],\n",
       "       [21, 14, 39, 29, 40],\n",
       "       [ 2, 29, 12,  1, 24],\n",
       "       [27, 19, 31, 13, 45],\n",
       "       [11, 45, 28, 18, 10],\n",
       "       [12,  7, 29, 20, 19]])"
      ]
     },
     "execution_count": 10,
     "metadata": {},
     "output_type": "execute_result"
    }
   ],
   "source": [
    "# Reshape\n",
    "print('Reshape array')\n",
    "\n",
    "m = int(input(\"m = \"))\n",
    "n = int(input(\"n = \"))\n",
    "\n",
    "np.reshape(new_array, (m,n))"
   ]
  },
  {
   "cell_type": "code",
   "execution_count": 11,
   "id": "7180bbc7",
   "metadata": {},
   "outputs": [
    {
     "name": "stdout",
     "output_type": "stream",
     "text": [
      "Test non zero value\n",
      "True\n"
     ]
    }
   ],
   "source": [
    "print('Test non zero value')\n",
    "print(np.any(new_array))"
   ]
  },
  {
   "cell_type": "code",
   "execution_count": 12,
   "id": "8eecd28c",
   "metadata": {},
   "outputs": [
    {
     "name": "stdout",
     "output_type": "stream",
     "text": [
      "Test nan value\n"
     ]
    },
    {
     "data": {
      "text/plain": [
       "array([[False, False, False, False, False, False],\n",
       "       [False, False, False, False, False, False],\n",
       "       [False, False, False, False, False, False],\n",
       "       [False, False, False, False, False, False],\n",
       "       [False, False, False, False, False, False]])"
      ]
     },
     "execution_count": 12,
     "metadata": {},
     "output_type": "execute_result"
    }
   ],
   "source": [
    "print('Test nan value')\n",
    "np.isnan(new_array)"
   ]
  },
  {
   "cell_type": "code",
   "execution_count": null,
   "id": "e358e16b",
   "metadata": {},
   "outputs": [],
   "source": []
  }
 ],
 "metadata": {
  "kernelspec": {
   "display_name": "Python 3.9.12 ('base')",
   "language": "python",
   "name": "python3"
  },
  "language_info": {
   "codemirror_mode": {
    "name": "ipython",
    "version": 3
   },
   "file_extension": ".py",
   "mimetype": "text/x-python",
   "name": "python",
   "nbconvert_exporter": "python",
   "pygments_lexer": "ipython3",
   "version": "3.9.12"
  },
  "vscode": {
   "interpreter": {
    "hash": "36526bd4932420a386fe19e89d3f7c800a069b36dd87d412ba674b50a2ad3fe4"
   }
  }
 },
 "nbformat": 4,
 "nbformat_minor": 5
}
